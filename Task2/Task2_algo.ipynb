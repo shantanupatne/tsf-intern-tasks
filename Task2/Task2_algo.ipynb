{
  "nbformat": 4,
  "nbformat_minor": 0,
  "metadata": {
    "colab": {
      "name": "Task2 - algo.ipynb",
      "provenance": [],
      "collapsed_sections": [],
      "authorship_tag": "ABX9TyPa7xQ9+KlzAlkBXTEGmsjf"
    },
    "kernelspec": {
      "name": "python3",
      "display_name": "Python 3"
    }
  },
  "cells": [
    {
      "cell_type": "markdown",
      "metadata": {
        "id": "kTeQxDTFfhOq",
        "colab_type": "text"
      },
      "source": [
        "# **Exploring Supervised Machine Learning**\n",
        "\n",
        "Task #2 at the DS/ML internship at TSF.  \n",
        "This task is done **without** using the Sklearn module in this notebook."
      ]
    },
    {
      "cell_type": "markdown",
      "metadata": {
        "id": "F2QTtqESBuc5",
        "colab_type": "text"
      },
      "source": [
        "## Simple Linear Regression\n",
        "\n",
        "In this regression task we will predict the percentage of marks that a student is expected to score based upon the number of hours they studied. This is a simple linear regression task as it involves just two variables."
      ]
    },
    {
      "cell_type": "markdown",
      "metadata": {
        "id": "tKWJqwVJYb9N",
        "colab_type": "text"
      },
      "source": [
        "### Import Libraries"
      ]
    },
    {
      "cell_type": "code",
      "metadata": {
        "id": "qqmEoclRYa23",
        "colab_type": "code",
        "colab": {}
      },
      "source": [
        "import pandas as pd\n",
        "from matplotlib import pyplot as plt\n",
        "import numpy as np"
      ],
      "execution_count": 1,
      "outputs": []
    },
    {
      "cell_type": "markdown",
      "metadata": {
        "id": "xKCGrKdXJmii",
        "colab_type": "text"
      },
      "source": [
        "### Minimize the line parameters using gradient descent"
      ]
    },
    {
      "cell_type": "code",
      "metadata": {
        "id": "5CIMKfgFJlvw",
        "colab_type": "code",
        "colab": {}
      },
      "source": [
        "def update_line(b, m, data, alpha = 0.001, iter = 1000):\n",
        "  b = b\n",
        "  m = m\n",
        "  n = len(data)\n",
        "  for i in range(iter):\n",
        "    # find gradient using backprop\n",
        "    dm = np.sum(((m*data[:,0] + b) - data[:,1]) * data[:,0]) # ((mx + b) - y)*x\n",
        "    db = np.sum((m*data[:,0] + b) - data[:,1]) # (mx + b) - y)\n",
        "\n",
        "    # update parameters\n",
        "    m -= alpha * (dm * 2 / n)\n",
        "    b -= alpha * (db * 2 / n)\n",
        "  \n",
        "  return [b, m]"
      ],
      "execution_count": 2,
      "outputs": []
    },
    {
      "cell_type": "markdown",
      "metadata": {
        "id": "-6GRFkkBKOYW",
        "colab_type": "text"
      },
      "source": [
        "### Plot the line found by the gradient descent"
      ]
    },
    {
      "cell_type": "code",
      "metadata": {
        "id": "jDXxNUXJKQb2",
        "colab_type": "code",
        "colab": {}
      },
      "source": [
        "def plot_line(b, m, data):\n",
        "  axes = plt.gca()\n",
        "  x = np.array(axes.get_xlim())\n",
        "  y = m * x + b\n",
        "  plt.plot(data[:,0], data[:,1], 'o')\n",
        "  plt.plot(x, y, \"r-\")"
      ],
      "execution_count": 3,
      "outputs": []
    },
    {
      "cell_type": "markdown",
      "metadata": {
        "id": "0VtsAe5gK7fw",
        "colab_type": "text"
      },
      "source": [
        "### Calculate the mean absolute error"
      ]
    },
    {
      "cell_type": "code",
      "metadata": {
        "id": "_6z2cwbzK9N-",
        "colab_type": "code",
        "colab": {}
      },
      "source": [
        "def maerror(data, b, m):\n",
        "  err = np.sum(np.abs((m * data[:, 0] + b) - data[:,1]))\n",
        "  err = err / len(data)\n",
        "  return err "
      ],
      "execution_count": 4,
      "outputs": []
    },
    {
      "cell_type": "markdown",
      "metadata": {
        "id": "TmMnjLkoTBg8",
        "colab_type": "text"
      },
      "source": [
        "### Predict values according to the line"
      ]
    },
    {
      "cell_type": "code",
      "metadata": {
        "id": "VCyRXdyZPbfU",
        "colab_type": "code",
        "colab": {}
      },
      "source": [
        "def predict(x, b, m):\n",
        "  y = m * x + b\n",
        "  return y"
      ],
      "execution_count": 5,
      "outputs": []
    },
    {
      "cell_type": "markdown",
      "metadata": {
        "id": "f03q-7hqLn3m",
        "colab_type": "text"
      },
      "source": [
        "### Import dataset"
      ]
    },
    {
      "cell_type": "code",
      "metadata": {
        "id": "-NXq4tYpO0M3",
        "colab_type": "code",
        "colab": {}
      },
      "source": [
        "# load dataset    \n",
        "d_url = \"http://bit.ly/w-data\"\n",
        "datapoints = np.array(pd.read_csv(d_url))"
      ],
      "execution_count": 6,
      "outputs": []
    },
    {
      "cell_type": "markdown",
      "metadata": {
        "id": "GQ62NFq9Ytdu",
        "colab_type": "text"
      },
      "source": [
        "### Initialize the parameters"
      ]
    },
    {
      "cell_type": "code",
      "metadata": {
        "id": "rnI0oYOuTTM8",
        "colab_type": "code",
        "colab": {}
      },
      "source": [
        "# rate of learning      \n",
        "learning_rate = 0.0001\n",
        "\n",
        "initial_b = 0 # initial y-intercept guess\n",
        "initial_m = 0 # initial slope guess\n",
        "num_iterations = 1000"
      ],
      "execution_count": 7,
      "outputs": []
    },
    {
      "cell_type": "markdown",
      "metadata": {
        "id": "fEcLa5vMYwgX",
        "colab_type": "text"
      },
      "source": [
        "### Find the best-fit line"
      ]
    },
    {
      "cell_type": "code",
      "metadata": {
        "id": "4jwpszbsTWkb",
        "colab_type": "code",
        "colab": {
          "base_uri": "https://localhost:8080/",
          "height": 51
        },
        "outputId": "6977e664-21fc-4aff-8b98-478b94714ebb"
      },
      "source": [
        "# error before regression\n",
        "initial_error = maerror(datapoints, initial_b, initial_m)\n",
        "print(\"Starting gradient descent at intercept = {}, slope = {}, and mean absolute error = {}\".format(initial_b, initial_m, initial_error))\n",
        "\n",
        "# error after regression\n",
        "[b, m] = update_line(initial_b, initial_m, datapoints, learning_rate, num_iterations)\n",
        "final_error = maerror(datapoints, b, m)\n",
        "print(\"After {} iterations, intercept = {}, slope = {}, and mean absolute error = {}\".format(num_iterations, b, m, final_error))"
      ],
      "execution_count": 8,
      "outputs": [
        {
          "output_type": "stream",
          "text": [
            "Starting gradient descent at intercept = 0, slope = 0, and mean absolute error = 51.48\n",
            "After 1000 iterations, intercept = 1.6314708810783125, slope = 9.896964110671043, and mean absolute error = 5.0367828352985535\n"
          ],
          "name": "stdout"
        }
      ]
    },
    {
      "cell_type": "markdown",
      "metadata": {
        "id": "t7SPJCNCZk3g",
        "colab_type": "text"
      },
      "source": [
        "### Predict as per required"
      ]
    },
    {
      "cell_type": "code",
      "metadata": {
        "id": "5_trZH2dTZ9P",
        "colab_type": "code",
        "colab": {
          "base_uri": "https://localhost:8080/",
          "height": 34
        },
        "outputId": "bb197d35-bbda-40b5-82f1-863ce696b5c9"
      },
      "source": [
        "hours = 9.25\n",
        "y = predict(hours, b, m)\n",
        "print(y)"
      ],
      "execution_count": 13,
      "outputs": [
        {
          "output_type": "stream",
          "text": [
            "93.17838890478546\n"
          ],
          "name": "stdout"
        }
      ]
    },
    {
      "cell_type": "markdown",
      "metadata": {
        "id": "wwXFPaYmdNNo",
        "colab_type": "text"
      },
      "source": [
        "### Plot relation"
      ]
    },
    {
      "cell_type": "code",
      "metadata": {
        "id": "Oh7plopVcX_f",
        "colab_type": "code",
        "colab": {
          "base_uri": "https://localhost:8080/",
          "height": 295
        },
        "outputId": "85fffc23-09a0-4c41-9427-4b60b6ecfc8a"
      },
      "source": [
        "plt.plot(datapoints[:,0], datapoints[:,1], 'o')\n",
        "plt.plot(datapoints[:,0], predict(datapoints[:,0], b, m))\n",
        "plt.xlabel(\"Hours\")\n",
        "plt.ylabel(\"Score\")\n",
        "plt.title(\"Hours vs Score relation\")\n",
        "plt.show()"
      ],
      "execution_count": 11,
      "outputs": [
        {
          "output_type": "display_data",
          "data": {
            "image/png": "[encoded data removed]",
            "text/plain": [
              "<Figure size 432x288 with 1 Axes>"
            ]
          },
          "metadata": {
            "tags": [],
            "needs_background": "light"
          }
        }
      ]
    }
  ]
}
