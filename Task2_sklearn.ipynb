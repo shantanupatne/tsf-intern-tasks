{
  "nbformat": 4,
  "nbformat_minor": 0,
  "metadata": {
    "colab": {
      "name": "Task2 - sklearn.ipynb",
      "provenance": [],
      "collapsed_sections": [],
      "toc_visible": true,
      "authorship_tag": "ABX9TyOYveL4ig9OXsoqgPW7CslB"
    },
    "kernelspec": {
      "name": "python3",
      "display_name": "Python 3"
    }
  },
  "cells": [
    {
      "cell_type": "markdown",
      "metadata": {
        "id": "kTeQxDTFfhOq",
        "colab_type": "text"
      },
      "source": [
        "# **Exploring Supervised Machine Learning**\n",
        "\n",
        "Task #2 at the DS/ML internship at TSF."
      ]
    },
    {
      "cell_type": "markdown",
      "metadata": {
        "id": "F2QTtqESBuc5",
        "colab_type": "text"
      },
      "source": [
        "## Simple Linear Regression\n",
        "\n",
        "In this regression task we will predict the percentage of marks that a student is expected to score based upon the number of hours they studied. This is a simple linear regression task as it involves just two variables."
      ]
    },
    {
      "cell_type": "markdown",
      "metadata": {
        "id": "4t23KIq9CCHP",
        "colab_type": "text"
      },
      "source": [
        "### Import Libraries and Read Data\n",
        "Show the first few entries in the data."
      ]
    },
    {
      "cell_type": "code",
      "metadata": {
        "id": "hTCyWebOf2Q7",
        "colab_type": "code",
        "colab": {
          "base_uri": "https://localhost:8080/",
          "height": 204
        },
        "outputId": "b7c8d29c-8e65-49d5-b040-d803cde624ed"
      },
      "source": [
        "import pandas as pd\n",
        "from matplotlib import pyplot as plt\n",
        "\n",
        "d_url = \"http://bit.ly/w-data\"\n",
        "data1 = pd.read_csv(d_url)\n",
        "data1.head()"
      ],
      "execution_count": 75,
      "outputs": [
        {
          "output_type": "execute_result",
          "data": {
            "text/html": [
              "<div>\n",
              "<style scoped>\n",
              "    .dataframe tbody tr th:only-of-type {\n",
              "        vertical-align: middle;\n",
              "    }\n",
              "\n",
              "    .dataframe tbody tr th {\n",
              "        vertical-align: top;\n",
              "    }\n",
              "\n",
              "    .dataframe thead th {\n",
              "        text-align: right;\n",
              "    }\n",
              "</style>\n",
              "<table border=\"1\" class=\"dataframe\">\n",
              "  <thead>\n",
              "    <tr style=\"text-align: right;\">\n",
              "      <th></th>\n",
              "      <th>Hours</th>\n",
              "      <th>Scores</th>\n",
              "    </tr>\n",
              "  </thead>\n",
              "  <tbody>\n",
              "    <tr>\n",
              "      <th>0</th>\n",
              "      <td>2.5</td>\n",
              "      <td>21</td>\n",
              "    </tr>\n",
              "    <tr>\n",
              "      <th>1</th>\n",
              "      <td>5.1</td>\n",
              "      <td>47</td>\n",
              "    </tr>\n",
              "    <tr>\n",
              "      <th>2</th>\n",
              "      <td>3.2</td>\n",
              "      <td>27</td>\n",
              "    </tr>\n",
              "    <tr>\n",
              "      <th>3</th>\n",
              "      <td>8.5</td>\n",
              "      <td>75</td>\n",
              "    </tr>\n",
              "    <tr>\n",
              "      <th>4</th>\n",
              "      <td>3.5</td>\n",
              "      <td>30</td>\n",
              "    </tr>\n",
              "  </tbody>\n",
              "</table>\n",
              "</div>"
            ],
            "text/plain": [
              "   Hours  Scores\n",
              "0    2.5      21\n",
              "1    5.1      47\n",
              "2    3.2      27\n",
              "3    8.5      75\n",
              "4    3.5      30"
            ]
          },
          "metadata": {
            "tags": []
          },
          "execution_count": 75
        }
      ]
    },
    {
      "cell_type": "markdown",
      "metadata": {
        "id": "3SzPRojfCPj3",
        "colab_type": "text"
      },
      "source": [
        "### Separate & Split\n",
        "Separate the data columns into features and labels."
      ]
    },
    {
      "cell_type": "code",
      "metadata": {
        "id": "yN6omkdShLvt",
        "colab_type": "code",
        "colab": {}
      },
      "source": [
        "X = data1.iloc[:,:-1].values\n",
        "Y = data1.iloc[:,-1].values"
      ],
      "execution_count": 76,
      "outputs": []
    },
    {
      "cell_type": "markdown",
      "metadata": {
        "id": "Nq6kywMXCZqP",
        "colab_type": "text"
      },
      "source": [
        "Split data into training set and test set."
      ]
    },
    {
      "cell_type": "code",
      "metadata": {
        "id": "g5Z6PBn8iTbO",
        "colab_type": "code",
        "colab": {}
      },
      "source": [
        "from sklearn.model_selection import train_test_split\n",
        "X_train, X_test, Y_train, Y_test = train_test_split(X, Y, test_size = 0.2, random_state = 0)"
      ],
      "execution_count": 77,
      "outputs": []
    },
    {
      "cell_type": "markdown",
      "metadata": {
        "id": "4bmNyEbECgdr",
        "colab_type": "text"
      },
      "source": [
        "### Linear Regression\n",
        "Create a linear regressor and fit the model using the train set."
      ]
    },
    {
      "cell_type": "code",
      "metadata": {
        "id": "7EPuMYmxjGPk",
        "colab_type": "code",
        "colab": {
          "base_uri": "https://localhost:8080/",
          "height": 34
        },
        "outputId": "9069d757-28d7-4946-8682-f0e66e436d17"
      },
      "source": [
        "from sklearn.linear_model import LinearRegression\n",
        "lr = LinearRegression()\n",
        "lr.fit(X_train, Y_train)"
      ],
      "execution_count": 78,
      "outputs": [
        {
          "output_type": "execute_result",
          "data": {
            "text/plain": [
              "LinearRegression(copy_X=True, fit_intercept=True, n_jobs=None, normalize=False)"
            ]
          },
          "metadata": {
            "tags": []
          },
          "execution_count": 78
        }
      ]
    },
    {
      "cell_type": "markdown",
      "metadata": {
        "id": "t9akipqgDIS6",
        "colab_type": "text"
      },
      "source": [
        "### Test"
      ]
    },
    {
      "cell_type": "markdown",
      "metadata": {
        "id": "JFnkXk2aDsip",
        "colab_type": "text"
      },
      "source": [
        "Test the model by predicting on test set"
      ]
    },
    {
      "cell_type": "code",
      "metadata": {
        "id": "C0GyEgujjuw4",
        "colab_type": "code",
        "colab": {
          "base_uri": "https://localhost:8080/",
          "height": 204
        },
        "outputId": "b3ab45d6-7a06-4d0d-afa5-3e0b9e3a52d9"
      },
      "source": [
        "y_pred = lr.predict(X_test)\n",
        "pd.DataFrame({\"Actual\":Y_test, \"Predicted\":y_pred})"
      ],
      "execution_count": 79,
      "outputs": [
        {
          "output_type": "execute_result",
          "data": {
            "text/html": [
              "<div>\n",
              "<style scoped>\n",
              "    .dataframe tbody tr th:only-of-type {\n",
              "        vertical-align: middle;\n",
              "    }\n",
              "\n",
              "    .dataframe tbody tr th {\n",
              "        vertical-align: top;\n",
              "    }\n",
              "\n",
              "    .dataframe thead th {\n",
              "        text-align: right;\n",
              "    }\n",
              "</style>\n",
              "<table border=\"1\" class=\"dataframe\">\n",
              "  <thead>\n",
              "    <tr style=\"text-align: right;\">\n",
              "      <th></th>\n",
              "      <th>Actual</th>\n",
              "      <th>Predicted</th>\n",
              "    </tr>\n",
              "  </thead>\n",
              "  <tbody>\n",
              "    <tr>\n",
              "      <th>0</th>\n",
              "      <td>20</td>\n",
              "      <td>16.884145</td>\n",
              "    </tr>\n",
              "    <tr>\n",
              "      <th>1</th>\n",
              "      <td>27</td>\n",
              "      <td>33.732261</td>\n",
              "    </tr>\n",
              "    <tr>\n",
              "      <th>2</th>\n",
              "      <td>69</td>\n",
              "      <td>75.357018</td>\n",
              "    </tr>\n",
              "    <tr>\n",
              "      <th>3</th>\n",
              "      <td>30</td>\n",
              "      <td>26.794801</td>\n",
              "    </tr>\n",
              "    <tr>\n",
              "      <th>4</th>\n",
              "      <td>62</td>\n",
              "      <td>60.491033</td>\n",
              "    </tr>\n",
              "  </tbody>\n",
              "</table>\n",
              "</div>"
            ],
            "text/plain": [
              "   Actual  Predicted\n",
              "0      20  16.884145\n",
              "1      27  33.732261\n",
              "2      69  75.357018\n",
              "3      30  26.794801\n",
              "4      62  60.491033"
            ]
          },
          "metadata": {
            "tags": []
          },
          "execution_count": 79
        }
      ]
    },
    {
      "cell_type": "markdown",
      "metadata": {
        "id": "Q1dU7zYdDxId",
        "colab_type": "text"
      },
      "source": [
        "Calculate mean absolute error."
      ]
    },
    {
      "cell_type": "code",
      "metadata": {
        "id": "7Azb6dHslV4l",
        "colab_type": "code",
        "colab": {
          "base_uri": "https://localhost:8080/",
          "height": 34
        },
        "outputId": "0a633686-7e52-44df-bc54-08f062a3ff66"
      },
      "source": [
        "from sklearn.metrics import mean_absolute_error\n",
        "error = mean_absolute_error(Y_test, y_pred)\n",
        "print(\"Error = {}\".format(error))"
      ],
      "execution_count": 80,
      "outputs": [
        {
          "output_type": "stream",
          "text": [
            "Error = 4.183859899002982\n"
          ],
          "name": "stdout"
        }
      ]
    },
    {
      "cell_type": "markdown",
      "metadata": {
        "id": "Q-9nVe8KEaVd",
        "colab_type": "text"
      },
      "source": [
        "### Plot & Predict"
      ]
    },
    {
      "cell_type": "markdown",
      "metadata": {
        "id": "pt4iV4idDXE-",
        "colab_type": "text"
      },
      "source": [
        "Plot the data and the best-fit line found by the model."
      ]
    },
    {
      "cell_type": "code",
      "metadata": {
        "id": "nhWSKkYuky0s",
        "colab_type": "code",
        "colab": {
          "base_uri": "https://localhost:8080/",
          "height": 265
        },
        "outputId": "9f1eab75-a8bb-4a2f-ae21-d808fcb277c1"
      },
      "source": [
        "plt.scatter(X, Y)\n",
        "plt.plot(X, lr.predict(X), '-')\n",
        "plt.show()"
      ],
      "execution_count": 105,
      "outputs": [
        {
          "output_type": "display_data",
          "data": {
            "image/png": "[encoded data removed]",
            "text/plain": [
              "<Figure size 432x288 with 1 Axes>"
            ]
          },
          "metadata": {
            "tags": [],
            "needs_background": "light"
          }
        }
      ]
    },
    {
      "cell_type": "markdown",
      "metadata": {
        "id": "QSs6DiKgDg8_",
        "colab_type": "text"
      },
      "source": [
        "Predict the score as per the hours."
      ]
    },
    {
      "cell_type": "code",
      "metadata": {
        "id": "VtbOCkfin-BL",
        "colab_type": "code",
        "colab": {
          "base_uri": "https://localhost:8080/",
          "height": 34
        },
        "outputId": "602f8567-7bf9-4c7d-82d7-a65ba2874965"
      },
      "source": [
        "hours = 9.25\n",
        "y_out = lr.predict([[hours]])\n",
        "print(\"For {} hours, score predicted is {}.\".format(hours, y_out[0]))"
      ],
      "execution_count": 82,
      "outputs": [
        {
          "output_type": "stream",
          "text": [
            "For 9.25 hours, score predicted is 93.69173248737539.\n"
          ],
          "name": "stdout"
        }
      ]
    },
    {
      "cell_type": "code",
      "metadata": {
        "id": "Vx5AwJshQhgq",
        "colab_type": "code",
        "colab": {}
      },
      "source": [
        ""
      ],
      "execution_count": 99,
      "outputs": []
    }
  ]
}