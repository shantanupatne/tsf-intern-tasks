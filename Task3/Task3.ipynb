{
  "nbformat": 4,
  "nbformat_minor": 0,
  "metadata": {
    "colab": {
      "name": "Task3.ipynb",
      "provenance": [],
      "authorship_tag": "ABX9TyOevEPY49wsh6/cEsNHqH/f"
    },
    "kernelspec": {
      "name": "python3",
      "display_name": "Python 3"
    }
  },
  "cells": [
    {
      "cell_type": "markdown",
      "metadata": {
        "id": "xDmJvGdoPZSq",
        "colab_type": "text"
      },
      "source": [
        "# **Exploring Unsupervised Machine Learning**\n"
      ]
    },
    {
      "cell_type": "markdown",
      "metadata": {
        "id": "Gnfko8DPPg2i",
        "colab_type": "text"
      },
      "source": [
        "Task #3 of the TSF internship.\n",
        "\n",
        "From the ‘Iris’ dataset, predict the optimum number of clusters and represent it visually."
      ]
    },
    {
      "cell_type": "markdown",
      "metadata": {
        "id": "Ibd0RJEvPn5O",
        "colab_type": "text"
      },
      "source": [
        "## Import & Read"
      ]
    },
    {
      "cell_type": "markdown",
      "metadata": {
        "id": "T6uMJmZ0P3Zs",
        "colab_type": "text"
      },
      "source": [
        "Import libraries and read data"
      ]
    },
    {
      "cell_type": "code",
      "metadata": {
        "id": "JlHePIIvoZr-",
        "colab_type": "code",
        "colab": {}
      },
      "source": [
        "import matplotlib.pyplot as plt\n",
        "import pandas as pd\n",
        "from sklearn import datasets\n",
        "from sklearn import cluster\n",
        "\n",
        "data = datasets.load_iris()\n",
        "iris_x = pd.DataFrame(data.data, columns=data.feature_names)\n",
        "iris_y = pd.DataFrame(data.target_names).values"
      ],
      "execution_count": 1,
      "outputs": []
    },
    {
      "cell_type": "markdown",
      "metadata": {
        "id": "vWdYWyO0P5xm",
        "colab_type": "text"
      },
      "source": [
        "## Cluster & Plot"
      ]
    },
    {
      "cell_type": "markdown",
      "metadata": {
        "id": "tS9X6RxrP8S-",
        "colab_type": "text"
      },
      "source": [
        "### No. of Clusters"
      ]
    },
    {
      "cell_type": "markdown",
      "metadata": {
        "id": "oPxPDwPgQCSb",
        "colab_type": "text"
      },
      "source": [
        "Find optimum no. of clusters using the elbow method."
      ]
    },
    {
      "cell_type": "code",
      "metadata": {
        "id": "5xZxrRYHs6PY",
        "colab_type": "code",
        "colab": {
          "base_uri": "https://localhost:8080/",
          "height": 295
        },
        "outputId": "36772183-d4d2-420a-93d3-3de01d454d4f"
      },
      "source": [
        "# optimum clusters using elbow method\n",
        "x = iris_x.values\n",
        "wcss = []\n",
        "\n",
        "for i in range(1, 15):\n",
        "  k = cluster.KMeans(n_clusters = i, random_state = 0).fit(x)\n",
        "  # elbow using sum of squares within cluster i.e. inertia\n",
        "  wcss.append(k.inertia_)\n",
        "\n",
        "plt.plot(range(1,15), wcss)\n",
        "plt.xlabel(\"WCSS\")\n",
        "plt.ylabel(\"Clusters\")\n",
        "plt.title(\"WCSS vs Cluster\")\n",
        "plt.grid(True)\n",
        "plt.show()"
      ],
      "execution_count": 2,
      "outputs": [
        {
          "output_type": "display_data",
          "data": {
            "image/png": "[encoded data removed]",
            "text/plain": [
              "<Figure size 432x288 with 1 Axes>"
            ]
          },
          "metadata": {
            "tags": [],
            "needs_background": "light"
          }
        }
      ]
    },
    {
      "cell_type": "markdown",
      "metadata": {
        "id": "CiGAE-7WTaLM",
        "colab_type": "text"
      },
      "source": [
        "We can see from the above graph, the elbow occurs at cluster = 3. \n",
        "Thus we will cluster accordingly."
      ]
    },
    {
      "cell_type": "code",
      "metadata": {
        "id": "Sl5UC0k4ugXG",
        "colab_type": "code",
        "colab": {}
      },
      "source": [
        "k = cluster.KMeans(n_clusters = 3, random_state = 0)\n",
        "y = k.fit_predict(x)"
      ],
      "execution_count": 3,
      "outputs": []
    },
    {
      "cell_type": "markdown",
      "metadata": {
        "id": "tX4UYfDhT69X",
        "colab_type": "text"
      },
      "source": [
        "### Plot"
      ]
    },
    {
      "cell_type": "code",
      "metadata": {
        "id": "LvmdYWQONKKv",
        "colab_type": "code",
        "colab": {
          "base_uri": "https://localhost:8080/",
          "height": 268
        },
        "outputId": "7b394afc-80ae-449a-f465-8f8f2b3c994b"
      },
      "source": [
        "colors = [\"red\", \"magenta\", \"cyan\"]\n",
        "for i in range(3):\n",
        "  label = \"Iris-\" + str(iris_y[i][0])\n",
        "  plt.scatter(x[y==i, 0], x[y==i, 1], c = colors[i], label = label)\n",
        "plt.scatter(k.cluster_centers_[:,0], k.cluster_centers_[:,1], c = \"black\", label = \"Centroid\")\n",
        "plt.grid(True)\n",
        "plt.legend(loc='upper right')\n",
        "plt.show()"
      ],
      "execution_count": 4,
      "outputs": [
        {
          "output_type": "display_data",
          "data": {
            "image/png": "[encoded data removed]",
            "text/plain": [
              "<Figure size 432x288 with 1 Axes>"
            ]
          },
          "metadata": {
            "tags": [],
            "needs_background": "light"
          }
        }
      ]
    }
  ]
}